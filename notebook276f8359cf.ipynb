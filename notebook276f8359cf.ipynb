{
 "cells": [
  {
   "cell_type": "code",
   "execution_count": 1,
   "id": "ce410e4d",
   "metadata": {
    "execution": {
     "iopub.execute_input": "2022-02-25T07:06:23.089511Z",
     "iopub.status.busy": "2022-02-25T07:06:23.088278Z",
     "iopub.status.idle": "2022-02-25T07:06:24.219775Z",
     "shell.execute_reply": "2022-02-25T07:06:24.218741Z",
     "shell.execute_reply.started": "2022-02-25T07:05:34.745117Z"
    },
    "papermill": {
     "duration": 1.17393,
     "end_time": "2022-02-25T07:06:24.220013",
     "exception": false,
     "start_time": "2022-02-25T07:06:23.046083",
     "status": "completed"
    },
    "tags": []
   },
   "outputs": [],
   "source": [
    "# compare different numbers of features selected using mutual information\n",
    "from numpy import mean\n",
    "from numpy import std\n",
    "from matplotlib import pyplot\n",
    "from scipy import stats\n",
    "import pandas as pd\n",
    "import numpy as np\n",
    "import seaborn as sns\n",
    "import matplotlib.pyplot as plt"
   ]
  },
  {
   "cell_type": "code",
   "execution_count": 2,
   "id": "608275ca",
   "metadata": {
    "execution": {
     "iopub.execute_input": "2022-02-25T07:06:24.297932Z",
     "iopub.status.busy": "2022-02-25T07:06:24.297104Z",
     "iopub.status.idle": "2022-02-25T07:06:25.154841Z",
     "shell.execute_reply": "2022-02-25T07:06:25.154114Z",
     "shell.execute_reply.started": "2022-02-25T07:05:34.755024Z"
    },
    "papermill": {
     "duration": 0.898546,
     "end_time": "2022-02-25T07:06:25.155023",
     "exception": false,
     "start_time": "2022-02-25T07:06:24.256477",
     "status": "completed"
    },
    "tags": []
   },
   "outputs": [],
   "source": [
    "train = pd.read_csv('/kaggle/input/widsdatathon2022/train.csv')"
   ]
  },
  {
   "cell_type": "code",
   "execution_count": 3,
   "id": "2a677623",
   "metadata": {
    "execution": {
     "iopub.execute_input": "2022-02-25T07:06:25.233044Z",
     "iopub.status.busy": "2022-02-25T07:06:25.232332Z",
     "iopub.status.idle": "2022-02-25T07:06:25.291447Z",
     "shell.execute_reply": "2022-02-25T07:06:25.292074Z",
     "shell.execute_reply.started": "2022-02-25T07:05:35.440460Z"
    },
    "papermill": {
     "duration": 0.101284,
     "end_time": "2022-02-25T07:06:25.292252",
     "exception": false,
     "start_time": "2022-02-25T07:06:25.190968",
     "status": "completed"
    },
    "tags": []
   },
   "outputs": [
    {
     "name": "stdout",
     "output_type": "stream",
     "text": [
      "<class 'pandas.core.frame.DataFrame'>\n",
      "RangeIndex: 75757 entries, 0 to 75756\n",
      "Data columns (total 64 columns):\n",
      " #   Column                     Non-Null Count  Dtype  \n",
      "---  ------                     --------------  -----  \n",
      " 0   Year_Factor                75757 non-null  int64  \n",
      " 1   State_Factor               75757 non-null  object \n",
      " 2   building_class             75757 non-null  object \n",
      " 3   facility_type              75757 non-null  object \n",
      " 4   floor_area                 75757 non-null  float64\n",
      " 5   year_built                 73920 non-null  float64\n",
      " 6   energy_star_rating         49048 non-null  float64\n",
      " 7   ELEVATION                  75757 non-null  float64\n",
      " 8   january_min_temp           75757 non-null  int64  \n",
      " 9   january_avg_temp           75757 non-null  float64\n",
      " 10  january_max_temp           75757 non-null  int64  \n",
      " 11  february_min_temp          75757 non-null  int64  \n",
      " 12  february_avg_temp          75757 non-null  float64\n",
      " 13  february_max_temp          75757 non-null  int64  \n",
      " 14  march_min_temp             75757 non-null  int64  \n",
      " 15  march_avg_temp             75757 non-null  float64\n",
      " 16  march_max_temp             75757 non-null  int64  \n",
      " 17  april_min_temp             75757 non-null  int64  \n",
      " 18  april_avg_temp             75757 non-null  float64\n",
      " 19  april_max_temp             75757 non-null  int64  \n",
      " 20  may_min_temp               75757 non-null  int64  \n",
      " 21  may_avg_temp               75757 non-null  float64\n",
      " 22  may_max_temp               75757 non-null  int64  \n",
      " 23  june_min_temp              75757 non-null  int64  \n",
      " 24  june_avg_temp              75757 non-null  float64\n",
      " 25  june_max_temp              75757 non-null  int64  \n",
      " 26  july_min_temp              75757 non-null  int64  \n",
      " 27  july_avg_temp              75757 non-null  float64\n",
      " 28  july_max_temp              75757 non-null  int64  \n",
      " 29  august_min_temp            75757 non-null  int64  \n",
      " 30  august_avg_temp            75757 non-null  float64\n",
      " 31  august_max_temp            75757 non-null  int64  \n",
      " 32  september_min_temp         75757 non-null  int64  \n",
      " 33  september_avg_temp         75757 non-null  float64\n",
      " 34  september_max_temp         75757 non-null  int64  \n",
      " 35  october_min_temp           75757 non-null  int64  \n",
      " 36  october_avg_temp           75757 non-null  float64\n",
      " 37  october_max_temp           75757 non-null  int64  \n",
      " 38  november_min_temp          75757 non-null  int64  \n",
      " 39  november_avg_temp          75757 non-null  float64\n",
      " 40  november_max_temp          75757 non-null  int64  \n",
      " 41  december_min_temp          75757 non-null  int64  \n",
      " 42  december_avg_temp          75757 non-null  float64\n",
      " 43  december_max_temp          75757 non-null  int64  \n",
      " 44  cooling_degree_days        75757 non-null  int64  \n",
      " 45  heating_degree_days        75757 non-null  int64  \n",
      " 46  precipitation_inches       75757 non-null  float64\n",
      " 47  snowfall_inches            75757 non-null  float64\n",
      " 48  snowdepth_inches           75757 non-null  int64  \n",
      " 49  avg_temp                   75757 non-null  float64\n",
      " 50  days_below_30F             75757 non-null  int64  \n",
      " 51  days_below_20F             75757 non-null  int64  \n",
      " 52  days_below_10F             75757 non-null  int64  \n",
      " 53  days_below_0F              75757 non-null  int64  \n",
      " 54  days_above_80F             75757 non-null  int64  \n",
      " 55  days_above_90F             75757 non-null  int64  \n",
      " 56  days_above_100F            75757 non-null  int64  \n",
      " 57  days_above_110F            75757 non-null  int64  \n",
      " 58  direction_max_wind_speed   34675 non-null  float64\n",
      " 59  direction_peak_wind_speed  33946 non-null  float64\n",
      " 60  max_wind_speed             34675 non-null  float64\n",
      " 61  days_with_fog              29961 non-null  float64\n",
      " 62  site_eui                   75757 non-null  float64\n",
      " 63  id                         75757 non-null  int64  \n",
      "dtypes: float64(24), int64(37), object(3)\n",
      "memory usage: 37.0+ MB\n"
     ]
    }
   ],
   "source": [
    "train.info()"
   ]
  },
  {
   "cell_type": "code",
   "execution_count": 4,
   "id": "26e58476",
   "metadata": {
    "execution": {
     "iopub.execute_input": "2022-02-25T07:06:25.370084Z",
     "iopub.status.busy": "2022-02-25T07:06:25.369379Z",
     "iopub.status.idle": "2022-02-25T07:06:25.407212Z",
     "shell.execute_reply": "2022-02-25T07:06:25.406626Z",
     "shell.execute_reply.started": "2022-02-25T07:05:35.503659Z"
    },
    "papermill": {
     "duration": 0.078425,
     "end_time": "2022-02-25T07:06:25.407361",
     "exception": false,
     "start_time": "2022-02-25T07:06:25.328936",
     "status": "completed"
    },
    "tags": []
   },
   "outputs": [
    {
     "name": "stdout",
     "output_type": "stream",
     "text": [
      "Year_Factor                      0\n",
      "State_Factor                     0\n",
      "building_class                   0\n",
      "facility_type                    0\n",
      "floor_area                       0\n",
      "                             ...  \n",
      "direction_peak_wind_speed    41811\n",
      "max_wind_speed               41082\n",
      "days_with_fog                45796\n",
      "site_eui                         0\n",
      "id                               0\n",
      "Length: 64, dtype: int64\n"
     ]
    }
   ],
   "source": [
    "print(train.isnull().sum())"
   ]
  },
  {
   "cell_type": "code",
   "execution_count": 5,
   "id": "4df15f2c",
   "metadata": {
    "execution": {
     "iopub.execute_input": "2022-02-25T07:06:25.487047Z",
     "iopub.status.busy": "2022-02-25T07:06:25.486322Z",
     "iopub.status.idle": "2022-02-25T07:06:25.489373Z",
     "shell.execute_reply": "2022-02-25T07:06:25.488724Z",
     "shell.execute_reply.started": "2022-02-25T07:05:35.552151Z"
    },
    "papermill": {
     "duration": 0.043547,
     "end_time": "2022-02-25T07:06:25.489511",
     "exception": false,
     "start_time": "2022-02-25T07:06:25.445964",
     "status": "completed"
    },
    "tags": []
   },
   "outputs": [],
   "source": [
    "#pip install datawig"
   ]
  },
  {
   "cell_type": "code",
   "execution_count": 6,
   "id": "8d6cba59",
   "metadata": {
    "execution": {
     "iopub.execute_input": "2022-02-25T07:06:25.567261Z",
     "iopub.status.busy": "2022-02-25T07:06:25.566570Z",
     "iopub.status.idle": "2022-02-25T07:06:25.690792Z",
     "shell.execute_reply": "2022-02-25T07:06:25.690242Z",
     "shell.execute_reply.started": "2022-02-25T07:05:35.560749Z"
    },
    "papermill": {
     "duration": 0.164999,
     "end_time": "2022-02-25T07:06:25.690963",
     "exception": false,
     "start_time": "2022-02-25T07:06:25.525964",
     "status": "completed"
    },
    "tags": []
   },
   "outputs": [],
   "source": [
    "from sklearn.preprocessing import LabelEncoder"
   ]
  },
  {
   "cell_type": "code",
   "execution_count": 7,
   "id": "f0b164ec",
   "metadata": {
    "execution": {
     "iopub.execute_input": "2022-02-25T07:06:25.768676Z",
     "iopub.status.busy": "2022-02-25T07:06:25.767960Z",
     "iopub.status.idle": "2022-02-25T07:06:25.770862Z",
     "shell.execute_reply": "2022-02-25T07:06:25.770252Z",
     "shell.execute_reply.started": "2022-02-25T07:05:35.580799Z"
    },
    "papermill": {
     "duration": 0.043601,
     "end_time": "2022-02-25T07:06:25.771019",
     "exception": false,
     "start_time": "2022-02-25T07:06:25.727418",
     "status": "completed"
    },
    "tags": []
   },
   "outputs": [],
   "source": [
    "# Create an instance of Labelencoder\n",
    "labelencoder = LabelEncoder()"
   ]
  },
  {
   "cell_type": "code",
   "execution_count": 8,
   "id": "8a51cdd6",
   "metadata": {
    "execution": {
     "iopub.execute_input": "2022-02-25T07:06:25.884313Z",
     "iopub.status.busy": "2022-02-25T07:06:25.874552Z",
     "iopub.status.idle": "2022-02-25T07:06:25.933334Z",
     "shell.execute_reply": "2022-02-25T07:06:25.932592Z",
     "shell.execute_reply.started": "2022-02-25T07:05:35.600133Z"
    },
    "papermill": {
     "duration": 0.125997,
     "end_time": "2022-02-25T07:06:25.933484",
     "exception": false,
     "start_time": "2022-02-25T07:06:25.807487",
     "status": "completed"
    },
    "tags": []
   },
   "outputs": [],
   "source": [
    "# Assigning numerical values and storing it in another column\n",
    "train['State_Factor'] = labelencoder.fit_transform(train['State_Factor'])\n",
    "train['building_class'] = labelencoder.fit_transform(train['building_class'])\n",
    "train['facility_type'] = labelencoder.fit_transform(train['facility_type'])"
   ]
  },
  {
   "cell_type": "code",
   "execution_count": 9,
   "id": "26f2152d",
   "metadata": {
    "execution": {
     "iopub.execute_input": "2022-02-25T07:06:26.016855Z",
     "iopub.status.busy": "2022-02-25T07:06:26.015576Z",
     "iopub.status.idle": "2022-02-25T07:06:26.043954Z",
     "shell.execute_reply": "2022-02-25T07:06:26.043176Z",
     "shell.execute_reply.started": "2022-02-25T07:05:35.708577Z"
    },
    "papermill": {
     "duration": 0.071552,
     "end_time": "2022-02-25T07:06:26.044106",
     "exception": false,
     "start_time": "2022-02-25T07:06:25.972554",
     "status": "completed"
    },
    "tags": []
   },
   "outputs": [
    {
     "name": "stdout",
     "output_type": "stream",
     "text": [
      "<class 'pandas.core.frame.DataFrame'>\n",
      "RangeIndex: 75757 entries, 0 to 75756\n",
      "Data columns (total 64 columns):\n",
      " #   Column                     Non-Null Count  Dtype  \n",
      "---  ------                     --------------  -----  \n",
      " 0   Year_Factor                75757 non-null  int64  \n",
      " 1   State_Factor               75757 non-null  int64  \n",
      " 2   building_class             75757 non-null  int64  \n",
      " 3   facility_type              75757 non-null  int64  \n",
      " 4   floor_area                 75757 non-null  float64\n",
      " 5   year_built                 73920 non-null  float64\n",
      " 6   energy_star_rating         49048 non-null  float64\n",
      " 7   ELEVATION                  75757 non-null  float64\n",
      " 8   january_min_temp           75757 non-null  int64  \n",
      " 9   january_avg_temp           75757 non-null  float64\n",
      " 10  january_max_temp           75757 non-null  int64  \n",
      " 11  february_min_temp          75757 non-null  int64  \n",
      " 12  february_avg_temp          75757 non-null  float64\n",
      " 13  february_max_temp          75757 non-null  int64  \n",
      " 14  march_min_temp             75757 non-null  int64  \n",
      " 15  march_avg_temp             75757 non-null  float64\n",
      " 16  march_max_temp             75757 non-null  int64  \n",
      " 17  april_min_temp             75757 non-null  int64  \n",
      " 18  april_avg_temp             75757 non-null  float64\n",
      " 19  april_max_temp             75757 non-null  int64  \n",
      " 20  may_min_temp               75757 non-null  int64  \n",
      " 21  may_avg_temp               75757 non-null  float64\n",
      " 22  may_max_temp               75757 non-null  int64  \n",
      " 23  june_min_temp              75757 non-null  int64  \n",
      " 24  june_avg_temp              75757 non-null  float64\n",
      " 25  june_max_temp              75757 non-null  int64  \n",
      " 26  july_min_temp              75757 non-null  int64  \n",
      " 27  july_avg_temp              75757 non-null  float64\n",
      " 28  july_max_temp              75757 non-null  int64  \n",
      " 29  august_min_temp            75757 non-null  int64  \n",
      " 30  august_avg_temp            75757 non-null  float64\n",
      " 31  august_max_temp            75757 non-null  int64  \n",
      " 32  september_min_temp         75757 non-null  int64  \n",
      " 33  september_avg_temp         75757 non-null  float64\n",
      " 34  september_max_temp         75757 non-null  int64  \n",
      " 35  october_min_temp           75757 non-null  int64  \n",
      " 36  october_avg_temp           75757 non-null  float64\n",
      " 37  october_max_temp           75757 non-null  int64  \n",
      " 38  november_min_temp          75757 non-null  int64  \n",
      " 39  november_avg_temp          75757 non-null  float64\n",
      " 40  november_max_temp          75757 non-null  int64  \n",
      " 41  december_min_temp          75757 non-null  int64  \n",
      " 42  december_avg_temp          75757 non-null  float64\n",
      " 43  december_max_temp          75757 non-null  int64  \n",
      " 44  cooling_degree_days        75757 non-null  int64  \n",
      " 45  heating_degree_days        75757 non-null  int64  \n",
      " 46  precipitation_inches       75757 non-null  float64\n",
      " 47  snowfall_inches            75757 non-null  float64\n",
      " 48  snowdepth_inches           75757 non-null  int64  \n",
      " 49  avg_temp                   75757 non-null  float64\n",
      " 50  days_below_30F             75757 non-null  int64  \n",
      " 51  days_below_20F             75757 non-null  int64  \n",
      " 52  days_below_10F             75757 non-null  int64  \n",
      " 53  days_below_0F              75757 non-null  int64  \n",
      " 54  days_above_80F             75757 non-null  int64  \n",
      " 55  days_above_90F             75757 non-null  int64  \n",
      " 56  days_above_100F            75757 non-null  int64  \n",
      " 57  days_above_110F            75757 non-null  int64  \n",
      " 58  direction_max_wind_speed   34675 non-null  float64\n",
      " 59  direction_peak_wind_speed  33946 non-null  float64\n",
      " 60  max_wind_speed             34675 non-null  float64\n",
      " 61  days_with_fog              29961 non-null  float64\n",
      " 62  site_eui                   75757 non-null  float64\n",
      " 63  id                         75757 non-null  int64  \n",
      "dtypes: float64(24), int64(40)\n",
      "memory usage: 37.0 MB\n"
     ]
    }
   ],
   "source": [
    "train.info()"
   ]
  },
  {
   "cell_type": "code",
   "execution_count": 10,
   "id": "06640c0d",
   "metadata": {
    "execution": {
     "iopub.execute_input": "2022-02-25T07:06:26.138133Z",
     "iopub.status.busy": "2022-02-25T07:06:26.137115Z",
     "iopub.status.idle": "2022-02-25T07:06:26.178410Z",
     "shell.execute_reply": "2022-02-25T07:06:26.178956Z",
     "shell.execute_reply.started": "2022-02-25T07:05:35.745390Z"
    },
    "papermill": {
     "duration": 0.090799,
     "end_time": "2022-02-25T07:06:26.179136",
     "exception": false,
     "start_time": "2022-02-25T07:06:26.088337",
     "status": "completed"
    },
    "tags": []
   },
   "outputs": [
    {
     "data": {
      "text/plain": [
       "Year_Factor                  None\n",
       "State_Factor                 None\n",
       "building_class               None\n",
       "facility_type                None\n",
       "floor_area                   None\n",
       "                             ... \n",
       "direction_peak_wind_speed    None\n",
       "max_wind_speed               None\n",
       "days_with_fog                None\n",
       "site_eui                     None\n",
       "id                           None\n",
       "Length: 64, dtype: object"
      ]
     },
     "execution_count": 10,
     "metadata": {},
     "output_type": "execute_result"
    }
   ],
   "source": [
    "train.apply(lambda x: x.fillna(x.mean(),inplace=True),axis=0)"
   ]
  },
  {
   "cell_type": "code",
   "execution_count": 11,
   "id": "2569eb1e",
   "metadata": {
    "execution": {
     "iopub.execute_input": "2022-02-25T07:06:26.272794Z",
     "iopub.status.busy": "2022-02-25T07:06:26.272165Z",
     "iopub.status.idle": "2022-02-25T07:06:26.311868Z",
     "shell.execute_reply": "2022-02-25T07:06:26.310973Z",
     "shell.execute_reply.started": "2022-02-25T07:05:35.795286Z"
    },
    "papermill": {
     "duration": 0.093342,
     "end_time": "2022-02-25T07:06:26.312063",
     "exception": false,
     "start_time": "2022-02-25T07:06:26.218721",
     "status": "completed"
    },
    "tags": []
   },
   "outputs": [],
   "source": [
    "y = train['site_eui']\n",
    "x = train.drop('site_eui', axis=1)"
   ]
  },
  {
   "cell_type": "code",
   "execution_count": 12,
   "id": "c12c2484",
   "metadata": {
    "execution": {
     "iopub.execute_input": "2022-02-25T07:06:26.391162Z",
     "iopub.status.busy": "2022-02-25T07:06:26.390151Z",
     "iopub.status.idle": "2022-02-25T07:06:26.677305Z",
     "shell.execute_reply": "2022-02-25T07:06:26.676600Z",
     "shell.execute_reply.started": "2022-02-25T07:05:35.839054Z"
    },
    "papermill": {
     "duration": 0.327931,
     "end_time": "2022-02-25T07:06:26.677501",
     "exception": false,
     "start_time": "2022-02-25T07:06:26.349570",
     "status": "completed"
    },
    "tags": []
   },
   "outputs": [],
   "source": [
    "from sklearn.datasets import make_regression\n",
    "from sklearn.model_selection import cross_val_score\n",
    "from sklearn.model_selection import RepeatedKFold\n",
    "from sklearn.feature_selection import SelectKBest\n",
    "from sklearn.feature_selection import mutual_info_regression, chi2\n",
    "from sklearn.linear_model import LinearRegression\n",
    "from sklearn.pipeline import Pipeline\n",
    "from sklearn.feature_selection import f_regression, mutual_info_regression\n",
    "# feature selection\n",
    "def select_features(X_train, y_train, X_test):\n",
    "\t# configure to select a subset of features\n",
    "\tfs = SelectKBest(score_func=f_regression, k=4)\n",
    "\t# learn relationship from training data\n",
    "\tfs.fit(X_train, y_train)\n",
    "\t# transform train input data\n",
    "\tX_train_fs = fs.transform(X_train)\n",
    "\t# transform test input data\n",
    "\tX_test_fs = fs.transform(X_test)\n",
    "\treturn X_train_fs, X_test_fs, fs"
   ]
  },
  {
   "cell_type": "code",
   "execution_count": 13,
   "id": "32e36835",
   "metadata": {
    "execution": {
     "iopub.execute_input": "2022-02-25T07:06:26.761759Z",
     "iopub.status.busy": "2022-02-25T07:06:26.760771Z",
     "iopub.status.idle": "2022-02-25T07:06:26.814363Z",
     "shell.execute_reply": "2022-02-25T07:06:26.813772Z",
     "shell.execute_reply.started": "2022-02-25T07:05:35.852591Z"
    },
    "papermill": {
     "duration": 0.096476,
     "end_time": "2022-02-25T07:06:26.814514",
     "exception": false,
     "start_time": "2022-02-25T07:06:26.718038",
     "status": "completed"
    },
    "tags": []
   },
   "outputs": [],
   "source": [
    "# importing train_test_split from sklearn\n",
    "from sklearn.model_selection import train_test_split\n",
    "# splitting the data\n",
    "x_train, x_test, y_train, y_test = train_test_split(x, y, test_size = 0.2, random_state = 2)"
   ]
  },
  {
   "cell_type": "code",
   "execution_count": 14,
   "id": "c676159a",
   "metadata": {
    "execution": {
     "iopub.execute_input": "2022-02-25T07:06:26.898341Z",
     "iopub.status.busy": "2022-02-25T07:06:26.897039Z",
     "iopub.status.idle": "2022-02-25T07:06:26.962331Z",
     "shell.execute_reply": "2022-02-25T07:06:26.963326Z",
     "shell.execute_reply.started": "2022-02-25T07:05:35.934300Z"
    },
    "papermill": {
     "duration": 0.111352,
     "end_time": "2022-02-25T07:06:26.963636",
     "exception": false,
     "start_time": "2022-02-25T07:06:26.852284",
     "status": "completed"
    },
    "tags": []
   },
   "outputs": [],
   "source": [
    "x_train_fs, x_test_fs, fs = select_features(x_train, y_train, x_test)"
   ]
  },
  {
   "cell_type": "code",
   "execution_count": 15,
   "id": "c5132fe0",
   "metadata": {
    "execution": {
     "iopub.execute_input": "2022-02-25T07:06:27.083740Z",
     "iopub.status.busy": "2022-02-25T07:06:27.082672Z",
     "iopub.status.idle": "2022-02-25T07:06:27.107599Z",
     "shell.execute_reply": "2022-02-25T07:06:27.108173Z",
     "shell.execute_reply.started": "2022-02-25T07:05:36.025194Z"
    },
    "papermill": {
     "duration": 0.073337,
     "end_time": "2022-02-25T07:06:27.108350",
     "exception": false,
     "start_time": "2022-02-25T07:06:27.035013",
     "status": "completed"
    },
    "tags": []
   },
   "outputs": [
    {
     "data": {
      "text/plain": [
       "LinearRegression()"
      ]
     },
     "execution_count": 15,
     "metadata": {},
     "output_type": "execute_result"
    }
   ],
   "source": [
    "# importing module\n",
    "from sklearn.linear_model import LinearRegression\n",
    "# creating an object of LinearRegression class\n",
    "Modle = LinearRegression()\n",
    "# fitting the training data\n",
    "Modle.fit(x_train_fs,y_train)"
   ]
  },
  {
   "cell_type": "code",
   "execution_count": 16,
   "id": "65b11eab",
   "metadata": {
    "execution": {
     "iopub.execute_input": "2022-02-25T07:06:27.189135Z",
     "iopub.status.busy": "2022-02-25T07:06:27.187624Z",
     "iopub.status.idle": "2022-02-25T07:06:27.194925Z",
     "shell.execute_reply": "2022-02-25T07:06:27.195965Z",
     "shell.execute_reply.started": "2022-02-25T07:05:36.051248Z"
    },
    "papermill": {
     "duration": 0.049517,
     "end_time": "2022-02-25T07:06:27.196251",
     "exception": false,
     "start_time": "2022-02-25T07:06:27.146734",
     "status": "completed"
    },
    "tags": []
   },
   "outputs": [
    {
     "name": "stdout",
     "output_type": "stream",
     "text": [
      "0.18622811728774535\n"
     ]
    }
   ],
   "source": [
    "print(Modle.score(x_test_fs, y_test))"
   ]
  },
  {
   "cell_type": "code",
   "execution_count": null,
   "id": "bb73ba5c",
   "metadata": {
    "papermill": {
     "duration": 0.057972,
     "end_time": "2022-02-25T07:06:27.325014",
     "exception": false,
     "start_time": "2022-02-25T07:06:27.267042",
     "status": "completed"
    },
    "tags": []
   },
   "outputs": [],
   "source": []
  },
  {
   "cell_type": "markdown",
   "id": "d55512d1",
   "metadata": {
    "papermill": {
     "duration": 0.037738,
     "end_time": "2022-02-25T07:06:27.400709",
     "exception": false,
     "start_time": "2022-02-25T07:06:27.362971",
     "status": "completed"
    },
    "tags": []
   },
   "source": [
    "print(LR.coef_)"
   ]
  },
  {
   "cell_type": "code",
   "execution_count": 17,
   "id": "e567c8bf",
   "metadata": {
    "execution": {
     "iopub.execute_input": "2022-02-25T07:06:27.487544Z",
     "iopub.status.busy": "2022-02-25T07:06:27.486420Z",
     "iopub.status.idle": "2022-02-25T07:06:27.492901Z",
     "shell.execute_reply": "2022-02-25T07:06:27.493953Z",
     "shell.execute_reply.started": "2022-02-25T07:05:36.074313Z"
    },
    "papermill": {
     "duration": 0.054003,
     "end_time": "2022-02-25T07:06:27.494243",
     "exception": false,
     "start_time": "2022-02-25T07:06:27.440240",
     "status": "completed"
    },
    "tags": []
   },
   "outputs": [
    {
     "data": {
      "text/plain": [
       "array([76.1745096 , 85.67607672, 52.66275637, ..., 85.67607672,\n",
       "       56.10464826, 57.75103386])"
      ]
     },
     "execution_count": 17,
     "metadata": {},
     "output_type": "execute_result"
    }
   ],
   "source": [
    "y_prediction =  Modle.predict(x_test_fs)\n",
    "y_prediction"
   ]
  },
  {
   "cell_type": "code",
   "execution_count": 18,
   "id": "8b60423b",
   "metadata": {
    "execution": {
     "iopub.execute_input": "2022-02-25T07:06:27.627567Z",
     "iopub.status.busy": "2022-02-25T07:06:27.626597Z",
     "iopub.status.idle": "2022-02-25T07:06:27.632658Z",
     "shell.execute_reply": "2022-02-25T07:06:27.631919Z",
     "shell.execute_reply.started": "2022-02-25T07:05:36.103060Z"
    },
    "papermill": {
     "duration": 0.066827,
     "end_time": "2022-02-25T07:06:27.632844",
     "exception": false,
     "start_time": "2022-02-25T07:06:27.566017",
     "status": "completed"
    },
    "tags": []
   },
   "outputs": [
    {
     "name": "stdout",
     "output_type": "stream",
     "text": [
      "MAE: 27.437\n"
     ]
    }
   ],
   "source": [
    "from sklearn.metrics import mean_absolute_error\n",
    "mae = mean_absolute_error(y_test, y_prediction)\n",
    "print('MAE: %.3f' % mae)"
   ]
  },
  {
   "cell_type": "code",
   "execution_count": 19,
   "id": "78e9e165",
   "metadata": {
    "execution": {
     "iopub.execute_input": "2022-02-25T07:06:27.724031Z",
     "iopub.status.busy": "2022-02-25T07:06:27.723307Z",
     "iopub.status.idle": "2022-02-25T07:06:27.729879Z",
     "shell.execute_reply": "2022-02-25T07:06:27.728780Z",
     "shell.execute_reply.started": "2022-02-25T07:05:36.127659Z"
    },
    "papermill": {
     "duration": 0.051674,
     "end_time": "2022-02-25T07:06:27.730105",
     "exception": false,
     "start_time": "2022-02-25T07:06:27.678431",
     "status": "completed"
    },
    "tags": []
   },
   "outputs": [
    {
     "name": "stdout",
     "output_type": "stream",
     "text": [
      "r2 socre is 0.18622811728774535\n",
      "mean_sqrd_error is== 2415.088339140392\n",
      "root_mean_squared error of is== 49.1435482961944\n"
     ]
    }
   ],
   "source": [
    "# importing r2_score module\n",
    "from sklearn.metrics import r2_score\n",
    "from sklearn.metrics import mean_squared_error\n",
    "# predicting the accuracy score\n",
    "score=r2_score(y_test,y_prediction)\n",
    "print('r2 socre is' ,score)\n",
    "print('mean_sqrd_error is==',mean_squared_error(y_test,y_prediction))\n",
    "print('root_mean_squared error of is==',np.sqrt(mean_squared_error(y_test,y_prediction)))"
   ]
  },
  {
   "cell_type": "code",
   "execution_count": 20,
   "id": "bd31f6a8",
   "metadata": {
    "execution": {
     "iopub.execute_input": "2022-02-25T07:06:27.816185Z",
     "iopub.status.busy": "2022-02-25T07:06:27.815424Z",
     "iopub.status.idle": "2022-02-25T07:06:27.820449Z",
     "shell.execute_reply": "2022-02-25T07:06:27.821438Z",
     "shell.execute_reply.started": "2022-02-25T07:05:36.156078Z"
    },
    "papermill": {
     "duration": 0.049994,
     "end_time": "2022-02-25T07:06:27.821724",
     "exception": false,
     "start_time": "2022-02-25T07:06:27.771730",
     "status": "completed"
    },
    "tags": []
   },
   "outputs": [],
   "source": [
    "predictions = Modle.predict(x_test_fs)\n"
   ]
  },
  {
   "cell_type": "code",
   "execution_count": 21,
   "id": "38e569b1",
   "metadata": {
    "execution": {
     "iopub.execute_input": "2022-02-25T07:06:27.963793Z",
     "iopub.status.busy": "2022-02-25T07:06:27.963111Z",
     "iopub.status.idle": "2022-02-25T07:06:28.254416Z",
     "shell.execute_reply": "2022-02-25T07:06:28.254933Z",
     "shell.execute_reply.started": "2022-02-25T07:05:36.169812Z"
    },
    "papermill": {
     "duration": 0.359866,
     "end_time": "2022-02-25T07:06:28.255103",
     "exception": false,
     "start_time": "2022-02-25T07:06:27.895237",
     "status": "completed"
    },
    "tags": []
   },
   "outputs": [
    {
     "data": {
      "text/plain": [
       "<matplotlib.collections.PathCollection at 0x7f46c0ba7bd0>"
      ]
     },
     "execution_count": 21,
     "metadata": {},
     "output_type": "execute_result"
    },
    {
     "data": {
      "image/png": "[encoded data removed]",
      "text/plain": [
       "<Figure size 432x288 with 1 Axes>"
      ]
     },
     "metadata": {
      "needs_background": "light"
     },
     "output_type": "display_data"
    }
   ],
   "source": [
    "plt.scatter(y_test, predictions)"
   ]
  },
  {
   "cell_type": "code",
   "execution_count": 22,
   "id": "62b93ee3",
   "metadata": {
    "execution": {
     "iopub.execute_input": "2022-02-25T07:06:28.342525Z",
     "iopub.status.busy": "2022-02-25T07:06:28.341476Z",
     "iopub.status.idle": "2022-02-25T07:06:28.349845Z",
     "shell.execute_reply": "2022-02-25T07:06:28.350314Z",
     "shell.execute_reply.started": "2022-02-25T07:05:36.545084Z"
    },
    "papermill": {
     "duration": 0.054749,
     "end_time": "2022-02-25T07:06:28.350488",
     "exception": false,
     "start_time": "2022-02-25T07:06:28.295739",
     "status": "completed"
    },
    "tags": []
   },
   "outputs": [
    {
     "data": {
      "text/plain": [
       "array([76.1745096 , 85.67607672, 52.66275637, ..., 85.67607672,\n",
       "       56.10464826, 57.75103386])"
      ]
     },
     "execution_count": 22,
     "metadata": {},
     "output_type": "execute_result"
    }
   ],
   "source": [
    "from sklearn import metrics\n",
    "metrics.mean_absolute_error(y_test, predictions)\n",
    "metrics.mean_squared_error(y_test, predictions)\n",
    "np.sqrt(metrics.mean_squared_error(y_test, predictions))\n",
    "predictions"
   ]
  },
  {
   "cell_type": "code",
   "execution_count": 23,
   "id": "dc2dbfea",
   "metadata": {
    "execution": {
     "iopub.execute_input": "2022-02-25T07:06:28.436491Z",
     "iopub.status.busy": "2022-02-25T07:06:28.435554Z",
     "iopub.status.idle": "2022-02-25T07:06:28.438583Z",
     "shell.execute_reply": "2022-02-25T07:06:28.439033Z",
     "shell.execute_reply.started": "2022-02-25T07:05:36.562383Z"
    },
    "papermill": {
     "duration": 0.047542,
     "end_time": "2022-02-25T07:06:28.439208",
     "exception": false,
     "start_time": "2022-02-25T07:06:28.391666",
     "status": "completed"
    },
    "tags": []
   },
   "outputs": [],
   "source": [
    "#pip install datawig==0.2.0"
   ]
  },
  {
   "cell_type": "code",
   "execution_count": 24,
   "id": "50911238",
   "metadata": {
    "execution": {
     "iopub.execute_input": "2022-02-25T07:06:28.524808Z",
     "iopub.status.busy": "2022-02-25T07:06:28.523837Z",
     "iopub.status.idle": "2022-02-25T07:06:28.645085Z",
     "shell.execute_reply": "2022-02-25T07:06:28.644504Z",
     "shell.execute_reply.started": "2022-02-25T07:05:36.595200Z"
    },
    "papermill": {
     "duration": 0.165203,
     "end_time": "2022-02-25T07:06:28.645239",
     "exception": false,
     "start_time": "2022-02-25T07:06:28.480036",
     "status": "completed"
    },
    "tags": []
   },
   "outputs": [],
   "source": [
    "test = pd.read_csv('/kaggle/input/widsdatathon2022/test.csv')"
   ]
  },
  {
   "cell_type": "code",
   "execution_count": 25,
   "id": "add6bfa1",
   "metadata": {
    "execution": {
     "iopub.execute_input": "2022-02-25T07:06:28.732296Z",
     "iopub.status.busy": "2022-02-25T07:06:28.731614Z",
     "iopub.status.idle": "2022-02-25T07:06:28.742622Z",
     "shell.execute_reply": "2022-02-25T07:06:28.743287Z",
     "shell.execute_reply.started": "2022-02-25T07:05:36.705472Z"
    },
    "papermill": {
     "duration": 0.057306,
     "end_time": "2022-02-25T07:06:28.743518",
     "exception": false,
     "start_time": "2022-02-25T07:06:28.686212",
     "status": "completed"
    },
    "tags": []
   },
   "outputs": [
    {
     "name": "stdout",
     "output_type": "stream",
     "text": [
      "Year_Factor                     0\n",
      "State_Factor                    0\n",
      "building_class                  0\n",
      "facility_type                   0\n",
      "floor_area                      0\n",
      "                             ... \n",
      "direction_max_wind_speed     8575\n",
      "direction_peak_wind_speed    8575\n",
      "max_wind_speed               8575\n",
      "days_with_fog                9117\n",
      "id                              0\n",
      "Length: 63, dtype: int64\n"
     ]
    }
   ],
   "source": [
    "print(test.isnull().sum())"
   ]
  },
  {
   "cell_type": "code",
   "execution_count": 26,
   "id": "68bae18f",
   "metadata": {
    "execution": {
     "iopub.execute_input": "2022-02-25T07:06:28.830796Z",
     "iopub.status.busy": "2022-02-25T07:06:28.830139Z",
     "iopub.status.idle": "2022-02-25T07:06:28.863858Z",
     "shell.execute_reply": "2022-02-25T07:06:28.863339Z",
     "shell.execute_reply.started": "2022-02-25T07:05:36.726339Z"
    },
    "papermill": {
     "duration": 0.078064,
     "end_time": "2022-02-25T07:06:28.864024",
     "exception": false,
     "start_time": "2022-02-25T07:06:28.785960",
     "status": "completed"
    },
    "tags": []
   },
   "outputs": [
    {
     "data": {
      "text/plain": [
       "Year_Factor                  None\n",
       "State_Factor                 None\n",
       "building_class               None\n",
       "facility_type                None\n",
       "floor_area                   None\n",
       "                             ... \n",
       "direction_max_wind_speed     None\n",
       "direction_peak_wind_speed    None\n",
       "max_wind_speed               None\n",
       "days_with_fog                None\n",
       "id                           None\n",
       "Length: 63, dtype: object"
      ]
     },
     "execution_count": 26,
     "metadata": {},
     "output_type": "execute_result"
    }
   ],
   "source": [
    "# Assigning numerical values and storing it in another column\n",
    "test['State_Factor'] = labelencoder.fit_transform(test['State_Factor'])\n",
    "test['building_class'] = labelencoder.fit_transform(test['building_class'])\n",
    "test['facility_type'] = labelencoder.fit_transform(test['facility_type'])\n",
    "test.apply(lambda x: x.fillna(x.mean(),inplace=True),axis=0)"
   ]
  },
  {
   "cell_type": "code",
   "execution_count": 27,
   "id": "e66b8dd1",
   "metadata": {
    "execution": {
     "iopub.execute_input": "2022-02-25T07:06:28.955724Z",
     "iopub.status.busy": "2022-02-25T07:06:28.951050Z",
     "iopub.status.idle": "2022-02-25T07:06:28.965721Z",
     "shell.execute_reply": "2022-02-25T07:06:28.966714Z",
     "shell.execute_reply.started": "2022-02-25T07:05:36.778698Z"
    },
    "papermill": {
     "duration": 0.060897,
     "end_time": "2022-02-25T07:06:28.967013",
     "exception": false,
     "start_time": "2022-02-25T07:06:28.906116",
     "status": "completed"
    },
    "tags": []
   },
   "outputs": [],
   "source": [
    "t1 = fs.transform(test)\n",
    "result = Modle.predict(t1)"
   ]
  },
  {
   "cell_type": "code",
   "execution_count": 28,
   "id": "f367d27b",
   "metadata": {
    "execution": {
     "iopub.execute_input": "2022-02-25T07:06:29.110179Z",
     "iopub.status.busy": "2022-02-25T07:06:29.109296Z",
     "iopub.status.idle": "2022-02-25T07:06:29.112717Z",
     "shell.execute_reply": "2022-02-25T07:06:29.113223Z",
     "shell.execute_reply.started": "2022-02-25T07:05:36.805560Z"
    },
    "papermill": {
     "duration": 0.067725,
     "end_time": "2022-02-25T07:06:29.113391",
     "exception": false,
     "start_time": "2022-02-25T07:06:29.045666",
     "status": "completed"
    },
    "tags": []
   },
   "outputs": [
    {
     "data": {
      "text/plain": [
       "array([ 77.09632862,  60.62739861, 110.03418866, ...,  39.41017223,\n",
       "        53.13428058,  45.81475613])"
      ]
     },
     "execution_count": 28,
     "metadata": {},
     "output_type": "execute_result"
    }
   ],
   "source": [
    "result"
   ]
  },
  {
   "cell_type": "code",
   "execution_count": 29,
   "id": "e36dd3a8",
   "metadata": {
    "execution": {
     "iopub.execute_input": "2022-02-25T07:06:29.201292Z",
     "iopub.status.busy": "2022-02-25T07:06:29.200269Z",
     "iopub.status.idle": "2022-02-25T07:06:29.206502Z",
     "shell.execute_reply": "2022-02-25T07:06:29.206969Z",
     "shell.execute_reply.started": "2022-02-25T07:05:36.821015Z"
    },
    "papermill": {
     "duration": 0.051864,
     "end_time": "2022-02-25T07:06:29.207145",
     "exception": false,
     "start_time": "2022-02-25T07:06:29.155281",
     "status": "completed"
    },
    "tags": []
   },
   "outputs": [],
   "source": [
    "test[\"site_eui\"] = result.tolist()"
   ]
  },
  {
   "cell_type": "code",
   "execution_count": 30,
   "id": "8e3c6bcc",
   "metadata": {
    "execution": {
     "iopub.execute_input": "2022-02-25T07:06:29.296453Z",
     "iopub.status.busy": "2022-02-25T07:06:29.295488Z",
     "iopub.status.idle": "2022-02-25T07:06:29.332817Z",
     "shell.execute_reply": "2022-02-25T07:06:29.333329Z",
     "shell.execute_reply.started": "2022-02-25T07:05:36.840986Z"
    },
    "papermill": {
     "duration": 0.083146,
     "end_time": "2022-02-25T07:06:29.333513",
     "exception": false,
     "start_time": "2022-02-25T07:06:29.250367",
     "status": "completed"
    },
    "tags": []
   },
   "outputs": [
    {
     "data": {
      "text/html": [
       "<div>\n",
       "<style scoped>\n",
       "    .dataframe tbody tr th:only-of-type {\n",
       "        vertical-align: middle;\n",
       "    }\n",
       "\n",
       "    .dataframe tbody tr th {\n",
       "        vertical-align: top;\n",
       "    }\n",
       "\n",
       "    .dataframe thead th {\n",
       "        text-align: right;\n",
       "    }\n",
       "</style>\n",
       "<table border=\"1\" class=\"dataframe\">\n",
       "  <thead>\n",
       "    <tr style=\"text-align: right;\">\n",
       "      <th></th>\n",
       "      <th>Year_Factor</th>\n",
       "      <th>State_Factor</th>\n",
       "      <th>building_class</th>\n",
       "      <th>facility_type</th>\n",
       "      <th>floor_area</th>\n",
       "      <th>year_built</th>\n",
       "      <th>energy_star_rating</th>\n",
       "      <th>ELEVATION</th>\n",
       "      <th>january_min_temp</th>\n",
       "      <th>january_avg_temp</th>\n",
       "      <th>...</th>\n",
       "      <th>days_above_80F</th>\n",
       "      <th>days_above_90F</th>\n",
       "      <th>days_above_100F</th>\n",
       "      <th>days_above_110F</th>\n",
       "      <th>direction_max_wind_speed</th>\n",
       "      <th>direction_peak_wind_speed</th>\n",
       "      <th>max_wind_speed</th>\n",
       "      <th>days_with_fog</th>\n",
       "      <th>id</th>\n",
       "      <th>site_eui</th>\n",
       "    </tr>\n",
       "  </thead>\n",
       "  <tbody>\n",
       "    <tr>\n",
       "      <th>0</th>\n",
       "      <td>7</td>\n",
       "      <td>0</td>\n",
       "      <td>0</td>\n",
       "      <td>13</td>\n",
       "      <td>28484.0</td>\n",
       "      <td>1994.0</td>\n",
       "      <td>37.0</td>\n",
       "      <td>2.4</td>\n",
       "      <td>38</td>\n",
       "      <td>50.596774</td>\n",
       "      <td>...</td>\n",
       "      <td>29</td>\n",
       "      <td>5</td>\n",
       "      <td>2</td>\n",
       "      <td>0</td>\n",
       "      <td>321.743363</td>\n",
       "      <td>310.19469</td>\n",
       "      <td>18.131327</td>\n",
       "      <td>150.755102</td>\n",
       "      <td>75757</td>\n",
       "      <td>77.096329</td>\n",
       "    </tr>\n",
       "    <tr>\n",
       "      <th>1</th>\n",
       "      <td>7</td>\n",
       "      <td>0</td>\n",
       "      <td>0</td>\n",
       "      <td>13</td>\n",
       "      <td>21906.0</td>\n",
       "      <td>1961.0</td>\n",
       "      <td>55.0</td>\n",
       "      <td>45.7</td>\n",
       "      <td>38</td>\n",
       "      <td>50.596774</td>\n",
       "      <td>...</td>\n",
       "      <td>29</td>\n",
       "      <td>5</td>\n",
       "      <td>2</td>\n",
       "      <td>0</td>\n",
       "      <td>321.743363</td>\n",
       "      <td>310.19469</td>\n",
       "      <td>18.131327</td>\n",
       "      <td>150.755102</td>\n",
       "      <td>75758</td>\n",
       "      <td>60.627399</td>\n",
       "    </tr>\n",
       "    <tr>\n",
       "      <th>2</th>\n",
       "      <td>7</td>\n",
       "      <td>0</td>\n",
       "      <td>0</td>\n",
       "      <td>13</td>\n",
       "      <td>16138.0</td>\n",
       "      <td>1950.0</td>\n",
       "      <td>1.0</td>\n",
       "      <td>59.1</td>\n",
       "      <td>38</td>\n",
       "      <td>50.596774</td>\n",
       "      <td>...</td>\n",
       "      <td>29</td>\n",
       "      <td>5</td>\n",
       "      <td>2</td>\n",
       "      <td>0</td>\n",
       "      <td>321.743363</td>\n",
       "      <td>310.19469</td>\n",
       "      <td>18.131327</td>\n",
       "      <td>150.755102</td>\n",
       "      <td>75759</td>\n",
       "      <td>110.034189</td>\n",
       "    </tr>\n",
       "    <tr>\n",
       "      <th>3</th>\n",
       "      <td>7</td>\n",
       "      <td>0</td>\n",
       "      <td>0</td>\n",
       "      <td>13</td>\n",
       "      <td>97422.0</td>\n",
       "      <td>1971.0</td>\n",
       "      <td>34.0</td>\n",
       "      <td>35.4</td>\n",
       "      <td>38</td>\n",
       "      <td>50.596774</td>\n",
       "      <td>...</td>\n",
       "      <td>29</td>\n",
       "      <td>5</td>\n",
       "      <td>2</td>\n",
       "      <td>0</td>\n",
       "      <td>321.743363</td>\n",
       "      <td>310.19469</td>\n",
       "      <td>18.131327</td>\n",
       "      <td>150.755102</td>\n",
       "      <td>75760</td>\n",
       "      <td>79.841150</td>\n",
       "    </tr>\n",
       "    <tr>\n",
       "      <th>4</th>\n",
       "      <td>7</td>\n",
       "      <td>0</td>\n",
       "      <td>0</td>\n",
       "      <td>13</td>\n",
       "      <td>61242.0</td>\n",
       "      <td>1942.0</td>\n",
       "      <td>35.0</td>\n",
       "      <td>1.8</td>\n",
       "      <td>38</td>\n",
       "      <td>50.596774</td>\n",
       "      <td>...</td>\n",
       "      <td>29</td>\n",
       "      <td>5</td>\n",
       "      <td>2</td>\n",
       "      <td>0</td>\n",
       "      <td>340.000000</td>\n",
       "      <td>330.00000</td>\n",
       "      <td>22.800000</td>\n",
       "      <td>126.000000</td>\n",
       "      <td>75761</td>\n",
       "      <td>78.926210</td>\n",
       "    </tr>\n",
       "    <tr>\n",
       "      <th>...</th>\n",
       "      <td>...</td>\n",
       "      <td>...</td>\n",
       "      <td>...</td>\n",
       "      <td>...</td>\n",
       "      <td>...</td>\n",
       "      <td>...</td>\n",
       "      <td>...</td>\n",
       "      <td>...</td>\n",
       "      <td>...</td>\n",
       "      <td>...</td>\n",
       "      <td>...</td>\n",
       "      <td>...</td>\n",
       "      <td>...</td>\n",
       "      <td>...</td>\n",
       "      <td>...</td>\n",
       "      <td>...</td>\n",
       "      <td>...</td>\n",
       "      <td>...</td>\n",
       "      <td>...</td>\n",
       "      <td>...</td>\n",
       "      <td>...</td>\n",
       "    </tr>\n",
       "    <tr>\n",
       "      <th>9700</th>\n",
       "      <td>7</td>\n",
       "      <td>2</td>\n",
       "      <td>1</td>\n",
       "      <td>1</td>\n",
       "      <td>305925.0</td>\n",
       "      <td>2013.0</td>\n",
       "      <td>99.0</td>\n",
       "      <td>812.0</td>\n",
       "      <td>21</td>\n",
       "      <td>38.661290</td>\n",
       "      <td>...</td>\n",
       "      <td>39</td>\n",
       "      <td>3</td>\n",
       "      <td>0</td>\n",
       "      <td>0</td>\n",
       "      <td>321.743363</td>\n",
       "      <td>310.19469</td>\n",
       "      <td>18.131327</td>\n",
       "      <td>150.755102</td>\n",
       "      <td>85457</td>\n",
       "      <td>34.835469</td>\n",
       "    </tr>\n",
       "    <tr>\n",
       "      <th>9701</th>\n",
       "      <td>7</td>\n",
       "      <td>2</td>\n",
       "      <td>1</td>\n",
       "      <td>1</td>\n",
       "      <td>34909.0</td>\n",
       "      <td>1910.0</td>\n",
       "      <td>94.0</td>\n",
       "      <td>26.5</td>\n",
       "      <td>21</td>\n",
       "      <td>38.661290</td>\n",
       "      <td>...</td>\n",
       "      <td>39</td>\n",
       "      <td>3</td>\n",
       "      <td>0</td>\n",
       "      <td>0</td>\n",
       "      <td>321.743363</td>\n",
       "      <td>310.19469</td>\n",
       "      <td>18.131327</td>\n",
       "      <td>150.755102</td>\n",
       "      <td>85458</td>\n",
       "      <td>39.410172</td>\n",
       "    </tr>\n",
       "    <tr>\n",
       "      <th>9702</th>\n",
       "      <td>7</td>\n",
       "      <td>2</td>\n",
       "      <td>1</td>\n",
       "      <td>1</td>\n",
       "      <td>42393.0</td>\n",
       "      <td>2014.0</td>\n",
       "      <td>94.0</td>\n",
       "      <td>812.0</td>\n",
       "      <td>21</td>\n",
       "      <td>38.661290</td>\n",
       "      <td>...</td>\n",
       "      <td>39</td>\n",
       "      <td>3</td>\n",
       "      <td>0</td>\n",
       "      <td>0</td>\n",
       "      <td>321.743363</td>\n",
       "      <td>310.19469</td>\n",
       "      <td>18.131327</td>\n",
       "      <td>150.755102</td>\n",
       "      <td>85459</td>\n",
       "      <td>39.410172</td>\n",
       "    </tr>\n",
       "    <tr>\n",
       "      <th>9703</th>\n",
       "      <td>7</td>\n",
       "      <td>2</td>\n",
       "      <td>1</td>\n",
       "      <td>1</td>\n",
       "      <td>25368.0</td>\n",
       "      <td>1992.0</td>\n",
       "      <td>79.0</td>\n",
       "      <td>812.0</td>\n",
       "      <td>21</td>\n",
       "      <td>38.661290</td>\n",
       "      <td>...</td>\n",
       "      <td>39</td>\n",
       "      <td>3</td>\n",
       "      <td>0</td>\n",
       "      <td>0</td>\n",
       "      <td>321.743363</td>\n",
       "      <td>310.19469</td>\n",
       "      <td>18.131327</td>\n",
       "      <td>150.755102</td>\n",
       "      <td>85460</td>\n",
       "      <td>53.134281</td>\n",
       "    </tr>\n",
       "    <tr>\n",
       "      <th>9704</th>\n",
       "      <td>7</td>\n",
       "      <td>2</td>\n",
       "      <td>1</td>\n",
       "      <td>1</td>\n",
       "      <td>45640.0</td>\n",
       "      <td>1994.0</td>\n",
       "      <td>87.0</td>\n",
       "      <td>26.5</td>\n",
       "      <td>21</td>\n",
       "      <td>38.661290</td>\n",
       "      <td>...</td>\n",
       "      <td>39</td>\n",
       "      <td>3</td>\n",
       "      <td>0</td>\n",
       "      <td>0</td>\n",
       "      <td>321.743363</td>\n",
       "      <td>310.19469</td>\n",
       "      <td>18.131327</td>\n",
       "      <td>150.755102</td>\n",
       "      <td>85461</td>\n",
       "      <td>45.814756</td>\n",
       "    </tr>\n",
       "  </tbody>\n",
       "</table>\n",
       "<p>9705 rows × 64 columns</p>\n",
       "</div>"
      ],
      "text/plain": [
       "      Year_Factor  State_Factor  building_class  facility_type  floor_area  \\\n",
       "0               7             0               0             13     28484.0   \n",
       "1               7             0               0             13     21906.0   \n",
       "2               7             0               0             13     16138.0   \n",
       "3               7             0               0             13     97422.0   \n",
       "4               7             0               0             13     61242.0   \n",
       "...           ...           ...             ...            ...         ...   \n",
       "9700            7             2               1              1    305925.0   \n",
       "9701            7             2               1              1     34909.0   \n",
       "9702            7             2               1              1     42393.0   \n",
       "9703            7             2               1              1     25368.0   \n",
       "9704            7             2               1              1     45640.0   \n",
       "\n",
       "      year_built  energy_star_rating  ELEVATION  january_min_temp  \\\n",
       "0         1994.0                37.0        2.4                38   \n",
       "1         1961.0                55.0       45.7                38   \n",
       "2         1950.0                 1.0       59.1                38   \n",
       "3         1971.0                34.0       35.4                38   \n",
       "4         1942.0                35.0        1.8                38   \n",
       "...          ...                 ...        ...               ...   \n",
       "9700      2013.0                99.0      812.0                21   \n",
       "9701      1910.0                94.0       26.5                21   \n",
       "9702      2014.0                94.0      812.0                21   \n",
       "9703      1992.0                79.0      812.0                21   \n",
       "9704      1994.0                87.0       26.5                21   \n",
       "\n",
       "      january_avg_temp  ...  days_above_80F  days_above_90F  days_above_100F  \\\n",
       "0            50.596774  ...              29               5                2   \n",
       "1            50.596774  ...              29               5                2   \n",
       "2            50.596774  ...              29               5                2   \n",
       "3            50.596774  ...              29               5                2   \n",
       "4            50.596774  ...              29               5                2   \n",
       "...                ...  ...             ...             ...              ...   \n",
       "9700         38.661290  ...              39               3                0   \n",
       "9701         38.661290  ...              39               3                0   \n",
       "9702         38.661290  ...              39               3                0   \n",
       "9703         38.661290  ...              39               3                0   \n",
       "9704         38.661290  ...              39               3                0   \n",
       "\n",
       "      days_above_110F  direction_max_wind_speed  direction_peak_wind_speed  \\\n",
       "0                   0                321.743363                  310.19469   \n",
       "1                   0                321.743363                  310.19469   \n",
       "2                   0                321.743363                  310.19469   \n",
       "3                   0                321.743363                  310.19469   \n",
       "4                   0                340.000000                  330.00000   \n",
       "...               ...                       ...                        ...   \n",
       "9700                0                321.743363                  310.19469   \n",
       "9701                0                321.743363                  310.19469   \n",
       "9702                0                321.743363                  310.19469   \n",
       "9703                0                321.743363                  310.19469   \n",
       "9704                0                321.743363                  310.19469   \n",
       "\n",
       "      max_wind_speed  days_with_fog     id    site_eui  \n",
       "0          18.131327     150.755102  75757   77.096329  \n",
       "1          18.131327     150.755102  75758   60.627399  \n",
       "2          18.131327     150.755102  75759  110.034189  \n",
       "3          18.131327     150.755102  75760   79.841150  \n",
       "4          22.800000     126.000000  75761   78.926210  \n",
       "...              ...            ...    ...         ...  \n",
       "9700       18.131327     150.755102  85457   34.835469  \n",
       "9701       18.131327     150.755102  85458   39.410172  \n",
       "9702       18.131327     150.755102  85459   39.410172  \n",
       "9703       18.131327     150.755102  85460   53.134281  \n",
       "9704       18.131327     150.755102  85461   45.814756  \n",
       "\n",
       "[9705 rows x 64 columns]"
      ]
     },
     "execution_count": 30,
     "metadata": {},
     "output_type": "execute_result"
    }
   ],
   "source": [
    "test"
   ]
  },
  {
   "cell_type": "code",
   "execution_count": 31,
   "id": "1164e72d",
   "metadata": {
    "execution": {
     "iopub.execute_input": "2022-02-25T07:06:29.425698Z",
     "iopub.status.busy": "2022-02-25T07:06:29.425048Z",
     "iopub.status.idle": "2022-02-25T07:06:29.472047Z",
     "shell.execute_reply": "2022-02-25T07:06:29.472614Z",
     "shell.execute_reply.started": "2022-02-25T07:05:37.074990Z"
    },
    "papermill": {
     "duration": 0.09601,
     "end_time": "2022-02-25T07:06:29.472792",
     "exception": false,
     "start_time": "2022-02-25T07:06:29.376782",
     "status": "completed"
    },
    "tags": []
   },
   "outputs": [],
   "source": [
    "sub = pd.read_csv(\"/kaggle/input/widsdatathon2022/sample_solution.csv\")\n",
    "sub[\"site_eui\"] = test[\"site_eui\"]\n",
    "sub.to_csv(\"submission.csv\", index = False)"
   ]
  },
  {
   "cell_type": "code",
   "execution_count": 32,
   "id": "4cdfdb7e",
   "metadata": {
    "execution": {
     "iopub.execute_input": "2022-02-25T07:06:29.570467Z",
     "iopub.status.busy": "2022-02-25T07:06:29.569787Z",
     "iopub.status.idle": "2022-02-25T07:06:29.572518Z",
     "shell.execute_reply": "2022-02-25T07:06:29.573015Z",
     "shell.execute_reply.started": "2022-02-25T07:05:37.130522Z"
    },
    "papermill": {
     "duration": 0.057081,
     "end_time": "2022-02-25T07:06:29.573182",
     "exception": false,
     "start_time": "2022-02-25T07:06:29.516101",
     "status": "completed"
    },
    "tags": []
   },
   "outputs": [
    {
     "data": {
      "text/html": [
       "<div>\n",
       "<style scoped>\n",
       "    .dataframe tbody tr th:only-of-type {\n",
       "        vertical-align: middle;\n",
       "    }\n",
       "\n",
       "    .dataframe tbody tr th {\n",
       "        vertical-align: top;\n",
       "    }\n",
       "\n",
       "    .dataframe thead th {\n",
       "        text-align: right;\n",
       "    }\n",
       "</style>\n",
       "<table border=\"1\" class=\"dataframe\">\n",
       "  <thead>\n",
       "    <tr style=\"text-align: right;\">\n",
       "      <th></th>\n",
       "      <th>id</th>\n",
       "      <th>site_eui</th>\n",
       "    </tr>\n",
       "  </thead>\n",
       "  <tbody>\n",
       "    <tr>\n",
       "      <th>0</th>\n",
       "      <td>75757</td>\n",
       "      <td>77.096329</td>\n",
       "    </tr>\n",
       "    <tr>\n",
       "      <th>1</th>\n",
       "      <td>75758</td>\n",
       "      <td>60.627399</td>\n",
       "    </tr>\n",
       "    <tr>\n",
       "      <th>2</th>\n",
       "      <td>75759</td>\n",
       "      <td>110.034189</td>\n",
       "    </tr>\n",
       "    <tr>\n",
       "      <th>3</th>\n",
       "      <td>75760</td>\n",
       "      <td>79.841150</td>\n",
       "    </tr>\n",
       "    <tr>\n",
       "      <th>4</th>\n",
       "      <td>75761</td>\n",
       "      <td>78.926210</td>\n",
       "    </tr>\n",
       "    <tr>\n",
       "      <th>...</th>\n",
       "      <td>...</td>\n",
       "      <td>...</td>\n",
       "    </tr>\n",
       "    <tr>\n",
       "      <th>9700</th>\n",
       "      <td>85457</td>\n",
       "      <td>34.835469</td>\n",
       "    </tr>\n",
       "    <tr>\n",
       "      <th>9701</th>\n",
       "      <td>85458</td>\n",
       "      <td>39.410172</td>\n",
       "    </tr>\n",
       "    <tr>\n",
       "      <th>9702</th>\n",
       "      <td>85459</td>\n",
       "      <td>39.410172</td>\n",
       "    </tr>\n",
       "    <tr>\n",
       "      <th>9703</th>\n",
       "      <td>85460</td>\n",
       "      <td>53.134281</td>\n",
       "    </tr>\n",
       "    <tr>\n",
       "      <th>9704</th>\n",
       "      <td>85461</td>\n",
       "      <td>45.814756</td>\n",
       "    </tr>\n",
       "  </tbody>\n",
       "</table>\n",
       "<p>9705 rows × 2 columns</p>\n",
       "</div>"
      ],
      "text/plain": [
       "         id    site_eui\n",
       "0     75757   77.096329\n",
       "1     75758   60.627399\n",
       "2     75759  110.034189\n",
       "3     75760   79.841150\n",
       "4     75761   78.926210\n",
       "...     ...         ...\n",
       "9700  85457   34.835469\n",
       "9701  85458   39.410172\n",
       "9702  85459   39.410172\n",
       "9703  85460   53.134281\n",
       "9704  85461   45.814756\n",
       "\n",
       "[9705 rows x 2 columns]"
      ]
     },
     "execution_count": 32,
     "metadata": {},
     "output_type": "execute_result"
    }
   ],
   "source": [
    "sub"
   ]
  },
  {
   "cell_type": "code",
   "execution_count": null,
   "id": "aa1ea69b",
   "metadata": {
    "papermill": {
     "duration": 0.043321,
     "end_time": "2022-02-25T07:06:29.660526",
     "exception": false,
     "start_time": "2022-02-25T07:06:29.617205",
     "status": "completed"
    },
    "tags": []
   },
   "outputs": [],
   "source": []
  },
  {
   "cell_type": "code",
   "execution_count": null,
   "id": "6dc2b833",
   "metadata": {
    "papermill": {
     "duration": 0.043321,
     "end_time": "2022-02-25T07:06:29.747253",
     "exception": false,
     "start_time": "2022-02-25T07:06:29.703932",
     "status": "completed"
    },
    "tags": []
   },
   "outputs": [],
   "source": []
  },
  {
   "cell_type": "markdown",
   "id": "f5fb6b34",
   "metadata": {
    "papermill": {
     "duration": 0.043604,
     "end_time": "2022-02-25T07:06:29.835841",
     "exception": false,
     "start_time": "2022-02-25T07:06:29.792237",
     "status": "completed"
    },
    "tags": []
   },
   "source": [
    "## "
   ]
  }
 ],
 "metadata": {
  "kernelspec": {
   "display_name": "Python 3",
   "language": "python",
   "name": "python3"
  },
  "language_info": {
   "codemirror_mode": {
    "name": "ipython",
    "version": 3
   },
   "file_extension": ".py",
   "mimetype": "text/x-python",
   "name": "python",
   "nbconvert_exporter": "python",
   "pygments_lexer": "ipython3",
   "version": "3.7.12"
  },
  "papermill": {
   "default_parameters": {},
   "duration": 18.365238,
   "end_time": "2022-02-25T07:06:30.691857",
   "environment_variables": {},
   "exception": null,
   "input_path": "__notebook__.ipynb",
   "output_path": "__notebook__.ipynb",
   "parameters": {},
   "start_time": "2022-02-25T07:06:12.326619",
   "version": "2.3.3"
  }
 },
 "nbformat": 4,
 "nbformat_minor": 5
}
